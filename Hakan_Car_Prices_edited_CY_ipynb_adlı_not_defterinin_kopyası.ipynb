{
  "nbformat": 4,
  "nbformat_minor": 0,
  "metadata": {
    "colab": {
      "name": "Hakan_Car Prices_edited_CY.ipynb adlı not defterinin kopyası",
      "provenance": [],
      "collapsed_sections": [],
      "include_colab_link": true
    },
    "kernelspec": {
      "name": "python3",
      "display_name": "Python 3"
    },
    "deepnote_notebook_id": "9ce80533-e2fe-4241-82ca-89c3d03ac344",
    "deepnote_execution_queue": [],
    "accelerator": "GPU"
  },
  "cells": [
    {
      "cell_type": "markdown",
      "metadata": {
        "id": "view-in-github",
        "colab_type": "text"
      },
      "source": [
        "<a href=\"https://colab.research.google.com/github/Tttec/Inf003/blob/master/Hakan_Car_Prices_edited_CY_ipynb_adl%C4%B1_not_defterinin_kopyas%C4%B1.ipynb\" target=\"_parent\"><img src=\"https://colab.research.google.com/assets/colab-badge.svg\" alt=\"Open In Colab\"/></a>"
      ]
    },
    {
      "cell_type": "markdown",
      "metadata": {
        "id": "TeMrR2oA573_",
        "colab_type": "text",
        "cell_id": "ff22cf05-5fc5-4146-a028-a26d080617cf"
      },
      "source": [
        "Importing the libraries\n"
      ]
    },
    {
      "cell_type": "code",
      "metadata": {
        "tags": [],
        "cell_id": "3adc4b70-430f-436e-a49c-68d3acb3d3d8",
        "id": "8AjMO65Q7Jzb",
        "colab_type": "code",
        "colab": {
          "base_uri": "https://localhost:8080/",
          "height": 212
        },
        "outputId": "e21af2d3-7bec-4d6b-825f-4534b6bbbaea"
      },
      "source": [
        "!pip install seaborn"
      ],
      "execution_count": 4,
      "outputs": [
        {
          "output_type": "stream",
          "text": [
            "Requirement already satisfied: seaborn in /usr/local/lib/python3.6/dist-packages (0.10.1)\n",
            "Requirement already satisfied: matplotlib>=2.1.2 in /usr/local/lib/python3.6/dist-packages (from seaborn) (3.2.2)\n",
            "Requirement already satisfied: numpy>=1.13.3 in /usr/local/lib/python3.6/dist-packages (from seaborn) (1.18.5)\n",
            "Requirement already satisfied: pandas>=0.22.0 in /usr/local/lib/python3.6/dist-packages (from seaborn) (1.0.5)\n",
            "Requirement already satisfied: scipy>=1.0.1 in /usr/local/lib/python3.6/dist-packages (from seaborn) (1.4.1)\n",
            "Requirement already satisfied: pyparsing!=2.0.4,!=2.1.2,!=2.1.6,>=2.0.1 in /usr/local/lib/python3.6/dist-packages (from matplotlib>=2.1.2->seaborn) (2.4.7)\n",
            "Requirement already satisfied: python-dateutil>=2.1 in /usr/local/lib/python3.6/dist-packages (from matplotlib>=2.1.2->seaborn) (2.8.1)\n",
            "Requirement already satisfied: kiwisolver>=1.0.1 in /usr/local/lib/python3.6/dist-packages (from matplotlib>=2.1.2->seaborn) (1.2.0)\n",
            "Requirement already satisfied: cycler>=0.10 in /usr/local/lib/python3.6/dist-packages (from matplotlib>=2.1.2->seaborn) (0.10.0)\n",
            "Requirement already satisfied: pytz>=2017.2 in /usr/local/lib/python3.6/dist-packages (from pandas>=0.22.0->seaborn) (2018.9)\n",
            "Requirement already satisfied: six>=1.5 in /usr/local/lib/python3.6/dist-packages (from python-dateutil>=2.1->matplotlib>=2.1.2->seaborn) (1.15.0)\n"
          ],
          "name": "stdout"
        }
      ]
    },
    {
      "cell_type": "code",
      "metadata": {
        "id": "5nir3r3U49vQ",
        "colab_type": "code",
        "cell_id": "f2240b5d-0f1e-4e4b-8ed5-1e35ffc9e4b6",
        "colab": {
          "base_uri": "https://localhost:8080/",
          "height": 52
        },
        "outputId": "8ff83f91-0d91-46be-a3c1-8020ddd42f56"
      },
      "source": [
        "import numpy as np                  # Scientific computing\n",
        "import tensorflow as tf\n",
        "import pandas as pd\n",
        "import seaborn as sns\n",
        "import matplotlib.pyplot as plt     # plot graphs\n",
        "import matplotlib.lines as mlines\n",
        "import sklearn.datasets\n",
        "import h5py                         # work with dataset stored in H5 files\n",
        "import scipy                        # use your own pictures\n",
        "from PIL import Image               # use your own pictures\n",
        "from scipy import ndimage\n",
        "from scipy.special import expit     # expit is the sigmoid function\n",
        "\n",
        "#from lr_utils import load_dataset"
      ],
      "execution_count": 5,
      "outputs": [
        {
          "output_type": "stream",
          "text": [
            "/usr/local/lib/python3.6/dist-packages/statsmodels/tools/_testing.py:19: FutureWarning: pandas.util.testing is deprecated. Use the functions in the public API at pandas.testing instead.\n",
            "  import pandas.util.testing as tm\n"
          ],
          "name": "stderr"
        }
      ]
    },
    {
      "cell_type": "markdown",
      "metadata": {
        "id": "-zqECeEO6Dh-",
        "colab_type": "text",
        "cell_id": "931a6a2a-c442-4fdb-afac-eb84aecb0294"
      },
      "source": [
        "Code to upload csv file in colab. (Dataset)"
      ]
    },
    {
      "cell_type": "code",
      "metadata": {
        "id": "8sbC4XEV5mmz",
        "colab_type": "code",
        "cell_id": "80127793-99b9-4543-ac48-88cc5d92c859",
        "colab": {}
      },
      "source": [
        "#from google.colab import files\n",
        "#uploaded = files.upload()"
      ],
      "execution_count": 6,
      "outputs": []
    },
    {
      "cell_type": "code",
      "metadata": {
        "id": "pd9lrcT05pm3",
        "colab_type": "code",
        "cell_id": "ab46db1f-35f1-4cb6-88d5-8127a29dfb3b",
        "colab": {}
      },
      "source": [
        "datas=pd.read_csv('car_dataset.csv')\n",
        "#Dataset:https://www.kaggle.com/doaaalsenani/usa-cers-dataset"
      ],
      "execution_count": 7,
      "outputs": []
    },
    {
      "cell_type": "markdown",
      "metadata": {
        "id": "gK21r0iKyhHv",
        "colab_type": "text"
      },
      "source": [
        "Adding some visualisation code to better understand dataset"
      ]
    },
    {
      "cell_type": "code",
      "metadata": {
        "tags": [],
        "cell_id": "a6089c8d-9f7b-4482-95bb-6569f77980ed",
        "id": "IEi3remi7Jzo",
        "colab_type": "code",
        "colab": {
          "base_uri": "https://localhost:8080/",
          "height": 197
        },
        "outputId": "4bd17687-7931-41e1-8551-a74d533f957c"
      },
      "source": [
        "datas.head()"
      ],
      "execution_count": 8,
      "outputs": [
        {
          "output_type": "execute_result",
          "data": {
            "text/html": [
              "<div>\n",
              "<style scoped>\n",
              "    .dataframe tbody tr th:only-of-type {\n",
              "        vertical-align: middle;\n",
              "    }\n",
              "\n",
              "    .dataframe tbody tr th {\n",
              "        vertical-align: top;\n",
              "    }\n",
              "\n",
              "    .dataframe thead th {\n",
              "        text-align: right;\n",
              "    }\n",
              "</style>\n",
              "<table border=\"1\" class=\"dataframe\">\n",
              "  <thead>\n",
              "    <tr style=\"text-align: right;\">\n",
              "      <th></th>\n",
              "      <th>Unnamed: 0</th>\n",
              "      <th>price</th>\n",
              "      <th>brand</th>\n",
              "      <th>model</th>\n",
              "      <th>year</th>\n",
              "      <th>title_status</th>\n",
              "      <th>mileage</th>\n",
              "      <th>color</th>\n",
              "      <th>vin</th>\n",
              "      <th>lot</th>\n",
              "      <th>state</th>\n",
              "      <th>country</th>\n",
              "      <th>condition</th>\n",
              "    </tr>\n",
              "  </thead>\n",
              "  <tbody>\n",
              "    <tr>\n",
              "      <th>0</th>\n",
              "      <td>0</td>\n",
              "      <td>6300</td>\n",
              "      <td>toyota</td>\n",
              "      <td>cruiser</td>\n",
              "      <td>2008</td>\n",
              "      <td>clean vehicle</td>\n",
              "      <td>274117.0</td>\n",
              "      <td>black</td>\n",
              "      <td>jtezu11f88k007763</td>\n",
              "      <td>159348797</td>\n",
              "      <td>new jersey</td>\n",
              "      <td>usa</td>\n",
              "      <td>10 days left</td>\n",
              "    </tr>\n",
              "    <tr>\n",
              "      <th>1</th>\n",
              "      <td>1</td>\n",
              "      <td>2899</td>\n",
              "      <td>ford</td>\n",
              "      <td>se</td>\n",
              "      <td>2011</td>\n",
              "      <td>clean vehicle</td>\n",
              "      <td>190552.0</td>\n",
              "      <td>silver</td>\n",
              "      <td>2fmdk3gc4bbb02217</td>\n",
              "      <td>166951262</td>\n",
              "      <td>tennessee</td>\n",
              "      <td>usa</td>\n",
              "      <td>6 days left</td>\n",
              "    </tr>\n",
              "    <tr>\n",
              "      <th>2</th>\n",
              "      <td>2</td>\n",
              "      <td>5350</td>\n",
              "      <td>dodge</td>\n",
              "      <td>mpv</td>\n",
              "      <td>2018</td>\n",
              "      <td>clean vehicle</td>\n",
              "      <td>39590.0</td>\n",
              "      <td>silver</td>\n",
              "      <td>3c4pdcgg5jt346413</td>\n",
              "      <td>167655728</td>\n",
              "      <td>georgia</td>\n",
              "      <td>usa</td>\n",
              "      <td>2 days left</td>\n",
              "    </tr>\n",
              "    <tr>\n",
              "      <th>3</th>\n",
              "      <td>3</td>\n",
              "      <td>25000</td>\n",
              "      <td>ford</td>\n",
              "      <td>door</td>\n",
              "      <td>2014</td>\n",
              "      <td>clean vehicle</td>\n",
              "      <td>64146.0</td>\n",
              "      <td>blue</td>\n",
              "      <td>1ftfw1et4efc23745</td>\n",
              "      <td>167753855</td>\n",
              "      <td>virginia</td>\n",
              "      <td>usa</td>\n",
              "      <td>22 hours left</td>\n",
              "    </tr>\n",
              "    <tr>\n",
              "      <th>4</th>\n",
              "      <td>4</td>\n",
              "      <td>27700</td>\n",
              "      <td>chevrolet</td>\n",
              "      <td>1500</td>\n",
              "      <td>2018</td>\n",
              "      <td>clean vehicle</td>\n",
              "      <td>6654.0</td>\n",
              "      <td>red</td>\n",
              "      <td>3gcpcrec2jg473991</td>\n",
              "      <td>167763266</td>\n",
              "      <td>florida</td>\n",
              "      <td>usa</td>\n",
              "      <td>22 hours left</td>\n",
              "    </tr>\n",
              "  </tbody>\n",
              "</table>\n",
              "</div>"
            ],
            "text/plain": [
              "   Unnamed: 0  price      brand  ...       state  country      condition\n",
              "0           0   6300     toyota  ...  new jersey      usa   10 days left\n",
              "1           1   2899       ford  ...   tennessee      usa    6 days left\n",
              "2           2   5350      dodge  ...     georgia      usa    2 days left\n",
              "3           3  25000       ford  ...    virginia      usa  22 hours left\n",
              "4           4  27700  chevrolet  ...     florida      usa  22 hours left\n",
              "\n",
              "[5 rows x 13 columns]"
            ]
          },
          "metadata": {
            "tags": []
          },
          "execution_count": 8
        }
      ]
    },
    {
      "cell_type": "code",
      "metadata": {
        "tags": [],
        "cell_id": "13560660-4103-41c6-b783-f70fe4ab0c1d",
        "id": "HwyUzgVc7Jzq",
        "colab_type": "code",
        "colab": {
          "base_uri": "https://localhost:8080/",
          "height": 372
        },
        "outputId": "c0a83e7d-9e78-4b1e-dc0f-027a746b4f5e"
      },
      "source": [
        "datas.info()"
      ],
      "execution_count": 9,
      "outputs": [
        {
          "output_type": "stream",
          "text": [
            "<class 'pandas.core.frame.DataFrame'>\n",
            "RangeIndex: 2499 entries, 0 to 2498\n",
            "Data columns (total 13 columns):\n",
            " #   Column        Non-Null Count  Dtype  \n",
            "---  ------        --------------  -----  \n",
            " 0   Unnamed: 0    2499 non-null   int64  \n",
            " 1   price         2499 non-null   int64  \n",
            " 2   brand         2499 non-null   object \n",
            " 3   model         2499 non-null   object \n",
            " 4   year          2499 non-null   int64  \n",
            " 5   title_status  2499 non-null   object \n",
            " 6   mileage       2499 non-null   float64\n",
            " 7   color         2499 non-null   object \n",
            " 8   vin           2499 non-null   object \n",
            " 9   lot           2499 non-null   int64  \n",
            " 10  state         2499 non-null   object \n",
            " 11  country       2499 non-null   object \n",
            " 12  condition     2499 non-null   object \n",
            "dtypes: float64(1), int64(4), object(8)\n",
            "memory usage: 253.9+ KB\n"
          ],
          "name": "stdout"
        }
      ]
    },
    {
      "cell_type": "code",
      "metadata": {
        "tags": [],
        "cell_id": "087af6b6-00b2-4be3-9cdf-4f2474f89d48",
        "id": "OoVUCRtx7Jzt",
        "colab_type": "code",
        "colab": {
          "base_uri": "https://localhost:8080/",
          "height": 287
        },
        "outputId": "fa9895f1-377b-483c-ae42-2fa1a8e987b2"
      },
      "source": [
        "datas.describe()"
      ],
      "execution_count": 10,
      "outputs": [
        {
          "output_type": "execute_result",
          "data": {
            "text/html": [
              "<div>\n",
              "<style scoped>\n",
              "    .dataframe tbody tr th:only-of-type {\n",
              "        vertical-align: middle;\n",
              "    }\n",
              "\n",
              "    .dataframe tbody tr th {\n",
              "        vertical-align: top;\n",
              "    }\n",
              "\n",
              "    .dataframe thead th {\n",
              "        text-align: right;\n",
              "    }\n",
              "</style>\n",
              "<table border=\"1\" class=\"dataframe\">\n",
              "  <thead>\n",
              "    <tr style=\"text-align: right;\">\n",
              "      <th></th>\n",
              "      <th>Unnamed: 0</th>\n",
              "      <th>price</th>\n",
              "      <th>year</th>\n",
              "      <th>mileage</th>\n",
              "      <th>lot</th>\n",
              "    </tr>\n",
              "  </thead>\n",
              "  <tbody>\n",
              "    <tr>\n",
              "      <th>count</th>\n",
              "      <td>2499.000000</td>\n",
              "      <td>2499.000000</td>\n",
              "      <td>2499.000000</td>\n",
              "      <td>2.499000e+03</td>\n",
              "      <td>2.499000e+03</td>\n",
              "    </tr>\n",
              "    <tr>\n",
              "      <th>mean</th>\n",
              "      <td>1249.000000</td>\n",
              "      <td>18767.671469</td>\n",
              "      <td>2016.714286</td>\n",
              "      <td>5.229869e+04</td>\n",
              "      <td>1.676914e+08</td>\n",
              "    </tr>\n",
              "    <tr>\n",
              "      <th>std</th>\n",
              "      <td>721.543484</td>\n",
              "      <td>12116.094936</td>\n",
              "      <td>3.442656</td>\n",
              "      <td>5.970552e+04</td>\n",
              "      <td>2.038772e+05</td>\n",
              "    </tr>\n",
              "    <tr>\n",
              "      <th>min</th>\n",
              "      <td>0.000000</td>\n",
              "      <td>0.000000</td>\n",
              "      <td>1973.000000</td>\n",
              "      <td>0.000000e+00</td>\n",
              "      <td>1.593488e+08</td>\n",
              "    </tr>\n",
              "    <tr>\n",
              "      <th>25%</th>\n",
              "      <td>624.500000</td>\n",
              "      <td>10200.000000</td>\n",
              "      <td>2016.000000</td>\n",
              "      <td>2.146650e+04</td>\n",
              "      <td>1.676253e+08</td>\n",
              "    </tr>\n",
              "    <tr>\n",
              "      <th>50%</th>\n",
              "      <td>1249.000000</td>\n",
              "      <td>16900.000000</td>\n",
              "      <td>2018.000000</td>\n",
              "      <td>3.536500e+04</td>\n",
              "      <td>1.677451e+08</td>\n",
              "    </tr>\n",
              "    <tr>\n",
              "      <th>75%</th>\n",
              "      <td>1873.500000</td>\n",
              "      <td>25555.500000</td>\n",
              "      <td>2019.000000</td>\n",
              "      <td>6.347250e+04</td>\n",
              "      <td>1.677798e+08</td>\n",
              "    </tr>\n",
              "    <tr>\n",
              "      <th>max</th>\n",
              "      <td>2498.000000</td>\n",
              "      <td>84900.000000</td>\n",
              "      <td>2020.000000</td>\n",
              "      <td>1.017936e+06</td>\n",
              "      <td>1.678055e+08</td>\n",
              "    </tr>\n",
              "  </tbody>\n",
              "</table>\n",
              "</div>"
            ],
            "text/plain": [
              "        Unnamed: 0         price         year       mileage           lot\n",
              "count  2499.000000   2499.000000  2499.000000  2.499000e+03  2.499000e+03\n",
              "mean   1249.000000  18767.671469  2016.714286  5.229869e+04  1.676914e+08\n",
              "std     721.543484  12116.094936     3.442656  5.970552e+04  2.038772e+05\n",
              "min       0.000000      0.000000  1973.000000  0.000000e+00  1.593488e+08\n",
              "25%     624.500000  10200.000000  2016.000000  2.146650e+04  1.676253e+08\n",
              "50%    1249.000000  16900.000000  2018.000000  3.536500e+04  1.677451e+08\n",
              "75%    1873.500000  25555.500000  2019.000000  6.347250e+04  1.677798e+08\n",
              "max    2498.000000  84900.000000  2020.000000  1.017936e+06  1.678055e+08"
            ]
          },
          "metadata": {
            "tags": []
          },
          "execution_count": 10
        }
      ]
    },
    {
      "cell_type": "code",
      "metadata": {
        "tags": [],
        "cell_id": "49c1f027-a5b1-4bd5-b1d2-55535619e7f9",
        "id": "dxmrWWvF7Jzw",
        "colab_type": "code",
        "colab": {
          "base_uri": "https://localhost:8080/",
          "height": 307
        },
        "outputId": "96a437f4-2955-4736-c6f5-3f080b9e31d1"
      },
      "source": [
        "plt.figure(figsize=(8,4))\n",
        "sns.distplot(datas['price'])"
      ],
      "execution_count": 11,
      "outputs": [
        {
          "output_type": "execute_result",
          "data": {
            "text/plain": [
              "<matplotlib.axes._subplots.AxesSubplot at 0x7eff82699630>"
            ]
          },
          "metadata": {
            "tags": []
          },
          "execution_count": 11
        },
        {
          "output_type": "display_data",
          "data": {
            "image/png": "[encoded data removed]",
            "text/plain": [
              "<Figure size 576x288 with 1 Axes>"
            ]
          },
          "metadata": {
            "tags": [],
            "needs_background": "light"
          }
        }
      ]
    },
    {
      "cell_type": "code",
      "metadata": {
        "tags": [],
        "cell_id": "e3f65615-86db-4dbe-95cd-58909f8694ec",
        "id": "oWka_DAe7Jzy",
        "colab_type": "code",
        "colab": {
          "base_uri": "https://localhost:8080/",
          "height": 296
        },
        "outputId": "421f6b24-abcf-4c79-8cbf-27541a031458"
      },
      "source": [
        "plt.figure(figsize=(8,4))\n",
        "sns.scatterplot(x='price',y='year',data=datas)"
      ],
      "execution_count": 12,
      "outputs": [
        {
          "output_type": "execute_result",
          "data": {
            "text/plain": [
              "<matplotlib.axes._subplots.AxesSubplot at 0x7eff820fbe80>"
            ]
          },
          "metadata": {
            "tags": []
          },
          "execution_count": 12
        },
        {
          "output_type": "display_data",
          "data": {
            "image/png": "[encoded data removed]",
            "text/plain": [
              "<Figure size 576x288 with 1 Axes>"
            ]
          },
          "metadata": {
            "tags": [],
            "needs_background": "light"
          }
        }
      ]
    },
    {
      "cell_type": "code",
      "metadata": {
        "id": "eCKckdyB0R_R",
        "colab_type": "code",
        "colab": {
          "base_uri": "https://localhost:8080/",
          "height": 307
        },
        "outputId": "3522c57d-b31b-45b2-aaff-98017a0f8751"
      },
      "source": [
        "plt.figure(figsize=(8,4))\n",
        "sns.scatterplot(x=\"year\",y=\"mileage\",data=datas,hue=\"price\")"
      ],
      "execution_count": 13,
      "outputs": [
        {
          "output_type": "execute_result",
          "data": {
            "text/plain": [
              "<matplotlib.axes._subplots.AxesSubplot at 0x7eff820e79b0>"
            ]
          },
          "metadata": {
            "tags": []
          },
          "execution_count": 13
        },
        {
          "output_type": "display_data",
          "data": {
            "image/png": "[encoded data removed]",
            "text/plain": [
              "<Figure size 576x288 with 1 Axes>"
            ]
          },
          "metadata": {
            "tags": [],
            "needs_background": "light"
          }
        }
      ]
    },
    {
      "cell_type": "code",
      "metadata": {
        "id": "p-tZ3Zz60di2",
        "colab_type": "code",
        "colab": {
          "base_uri": "https://localhost:8080/",
          "height": 197
        },
        "outputId": "e2ca70ce-dafc-46a0-e417-0d54a2a2a8f1"
      },
      "source": [
        "datas.corr()\n",
        "# TODO: How to read corraletaion matrix?"
      ],
      "execution_count": 14,
      "outputs": [
        {
          "output_type": "execute_result",
          "data": {
            "text/html": [
              "<div>\n",
              "<style scoped>\n",
              "    .dataframe tbody tr th:only-of-type {\n",
              "        vertical-align: middle;\n",
              "    }\n",
              "\n",
              "    .dataframe tbody tr th {\n",
              "        vertical-align: top;\n",
              "    }\n",
              "\n",
              "    .dataframe thead th {\n",
              "        text-align: right;\n",
              "    }\n",
              "</style>\n",
              "<table border=\"1\" class=\"dataframe\">\n",
              "  <thead>\n",
              "    <tr style=\"text-align: right;\">\n",
              "      <th></th>\n",
              "      <th>Unnamed: 0</th>\n",
              "      <th>price</th>\n",
              "      <th>year</th>\n",
              "      <th>mileage</th>\n",
              "      <th>lot</th>\n",
              "    </tr>\n",
              "  </thead>\n",
              "  <tbody>\n",
              "    <tr>\n",
              "      <th>Unnamed: 0</th>\n",
              "      <td>1.000000</td>\n",
              "      <td>0.098417</td>\n",
              "      <td>0.244921</td>\n",
              "      <td>-0.129258</td>\n",
              "      <td>0.012577</td>\n",
              "    </tr>\n",
              "    <tr>\n",
              "      <th>price</th>\n",
              "      <td>0.098417</td>\n",
              "      <td>1.000000</td>\n",
              "      <td>0.418274</td>\n",
              "      <td>-0.400838</td>\n",
              "      <td>0.159369</td>\n",
              "    </tr>\n",
              "    <tr>\n",
              "      <th>year</th>\n",
              "      <td>0.244921</td>\n",
              "      <td>0.418274</td>\n",
              "      <td>1.000000</td>\n",
              "      <td>-0.594686</td>\n",
              "      <td>0.164582</td>\n",
              "    </tr>\n",
              "    <tr>\n",
              "      <th>mileage</th>\n",
              "      <td>-0.129258</td>\n",
              "      <td>-0.400838</td>\n",
              "      <td>-0.594686</td>\n",
              "      <td>1.000000</td>\n",
              "      <td>-0.130475</td>\n",
              "    </tr>\n",
              "    <tr>\n",
              "      <th>lot</th>\n",
              "      <td>0.012577</td>\n",
              "      <td>0.159369</td>\n",
              "      <td>0.164582</td>\n",
              "      <td>-0.130475</td>\n",
              "      <td>1.000000</td>\n",
              "    </tr>\n",
              "  </tbody>\n",
              "</table>\n",
              "</div>"
            ],
            "text/plain": [
              "            Unnamed: 0     price      year   mileage       lot\n",
              "Unnamed: 0    1.000000  0.098417  0.244921 -0.129258  0.012577\n",
              "price         0.098417  1.000000  0.418274 -0.400838  0.159369\n",
              "year          0.244921  0.418274  1.000000 -0.594686  0.164582\n",
              "mileage      -0.129258 -0.400838 -0.594686  1.000000 -0.130475\n",
              "lot           0.012577  0.159369  0.164582 -0.130475  1.000000"
            ]
          },
          "metadata": {
            "tags": []
          },
          "execution_count": 14
        }
      ]
    },
    {
      "cell_type": "code",
      "metadata": {
        "id": "FbbrsSlX0f2Q",
        "colab_type": "code",
        "colab": {
          "base_uri": "https://localhost:8080/",
          "height": 504
        },
        "outputId": "5924fd6a-adfd-46c4-ba08-eefc03924075"
      },
      "source": [
        "plt.figure(figsize=(10,8))\n",
        "sns.heatmap(datas.corr(), annot=True)"
      ],
      "execution_count": 15,
      "outputs": [
        {
          "output_type": "execute_result",
          "data": {
            "text/plain": [
              "<matplotlib.axes._subplots.AxesSubplot at 0x7eff82118ef0>"
            ]
          },
          "metadata": {
            "tags": []
          },
          "execution_count": 15
        },
        {
          "output_type": "display_data",
          "data": {
            "image/png": "[encoded data removed]",
            "text/plain": [
              "<Figure size 720x576 with 2 Axes>"
            ]
          },
          "metadata": {
            "tags": [],
            "needs_background": "light"
          }
        }
      ]
    },
    {
      "cell_type": "markdown",
      "metadata": {
        "id": "ijkkVYcP6wjY",
        "colab_type": "text",
        "cell_id": "9760426c-77c8-48af-a9a0-902ed1845216"
      },
      "source": [
        "-Making some adjustments on retrieved data\n",
        "\n",
        "---\n",
        "\n",
        "\n",
        "-Here i eliminated some of the columns because i thought the dataset would be \n",
        "better without those columns since they can hardly give information and are hard to deal with. The columns i want to use are price, brand, model, year, title_status, mileage, color and state. "
      ]
    },
    {
      "cell_type": "code",
      "metadata": {
        "id": "fZbMYtbH6O9v",
        "colab_type": "code",
        "cell_id": "774c92eb-b34e-4ce6-9a7e-2ee9461ca96d",
        "colab": {
          "base_uri": "https://localhost:8080/",
          "height": 194
        },
        "outputId": "fa3422ad-ae43-42d5-96b4-bae769079cf4"
      },
      "source": [
        "#print(datas) To check if data has read properly and it has so i comment this line of code\n",
        "\n",
        "price=datas.iloc[:,1:2].values\n",
        "brand=datas.iloc[:,2:3].values\n",
        "model=datas.iloc[:,3:4].values\n",
        "year=datas.iloc[:,4:5].values\n",
        "title_status=datas.iloc[:,5:6].values\n",
        "mileage=datas.iloc[:,6:7].values\n",
        "color=datas.iloc[:,7:8].values\n",
        "state=datas.iloc[:,10:11].values\n",
        "#Checking the shapes and individual columns\n",
        "print(\"Shape of Dataframe: \", datas.shape)\n",
        "print(\"Shape of brand: \", brand.shape)\n",
        "print(\"Shape of price: \", price.shape)\n",
        "print(brand)\n",
        "\n",
        "#CY: Toplam kaç farklı brand var gibi bilgileri bastırman iyi olur. Pandas'ın bunun için fonksiyonları var.\n",
        "# her stütunda toplam kaç farklı değer var, ve her birinden toplam kaç tane var gibi bilgiler...\n",
        "# şu sayfadakine benzer bir data analizi iyi/gerekli:\n",
        "# https://medium.com/analytics-vidhya/house-price-prediction-regression-with-tensorflow-keras-4fc49fae7123\n",
        "\n",
        "# price = 0 olan datalar var, bunlar hatalı değil mi? Öğrenmeyi bozacaklarsa, temizlenmeleri iyi olabilir?"
      ],
      "execution_count": 16,
      "outputs": [
        {
          "output_type": "stream",
          "text": [
            "Shape of Dataframe:  (2499, 13)\n",
            "Shape of brand:  (2499, 1)\n",
            "Shape of price:  (2499, 1)\n",
            "[['toyota']\n",
            " ['ford']\n",
            " ['dodge']\n",
            " ...\n",
            " ['nissan']\n",
            " ['nissan']\n",
            " ['nissan']]\n"
          ],
          "name": "stdout"
        }
      ]
    },
    {
      "cell_type": "markdown",
      "metadata": {
        "id": "u54nmlVO8G0X",
        "colab_type": "text",
        "cell_id": "9eec6862-3a75-4305-a7e2-57d122927ac6"
      },
      "source": [
        "Since all columns are seperated and ready to work i transform categorichal values into numerical values.(brand, title_status_color, model, state)"
      ]
    },
    {
      "cell_type": "code",
      "metadata": {
        "id": "sxjyAhhF8Foa",
        "colab_type": "code",
        "cell_id": "5137468f-ad8b-4c9c-bcdd-f1380e3537ed",
        "colab": {
          "base_uri": "https://localhost:8080/",
          "height": 141
        },
        "outputId": "4a4d5ab9-ab4a-4c84-f6e6-6abca089fc87"
      },
      "source": [
        "from sklearn.preprocessing import LabelEncoder # Label Encoder : non-numerical values  >  numerical values\n",
        "le = LabelEncoder()\n",
        "brand_le = le.fit_transform(brand[:,0]).reshape(-1,1)\n",
        "print(brand_le) #to check if transform applied correctly\n",
        "title_status_le= le.fit_transform(title_status[:,0]).reshape(-1,1)\n",
        "color_le=le.fit_transform(color[:,0]).reshape(-1,1)\n",
        "model_le=le.fit_transform(model[:,0]).reshape(-1,1)\n",
        "state_le=le.fit_transform(state[:,0]).reshape(-1,1)"
      ],
      "execution_count": 17,
      "outputs": [
        {
          "output_type": "stream",
          "text": [
            "[[27]\n",
            " [ 8]\n",
            " [ 7]\n",
            " ...\n",
            " [24]\n",
            " [24]\n",
            " [24]]\n"
          ],
          "name": "stdout"
        }
      ]
    },
    {
      "cell_type": "markdown",
      "metadata": {
        "id": "a4MvavBg_dQR",
        "colab_type": "text",
        "cell_id": "bae3a6b2-6c21-4c21-ad89-adfb1a489a19"
      },
      "source": [
        "Onehotencoding\n"
      ]
    },
    {
      "cell_type": "code",
      "metadata": {
        "id": "cjYBLu666YwW",
        "colab_type": "code",
        "cell_id": "1cbbf8da-f617-4367-b8c5-9c804c2768b0",
        "colab": {
          "base_uri": "https://localhost:8080/",
          "height": 230
        },
        "outputId": "c5d7b497-928b-41a6-d0ea-c3f64ed75523"
      },
      "source": [
        "from sklearn.preprocessing import OneHotEncoder\n",
        "ohe=OneHotEncoder()\n",
        "brand_ohe=ohe.fit_transform(brand).toarray()\n",
        "print(brand_ohe)\n",
        "title_status_ohe=ohe.fit_transform(title_status).toarray()\n",
        "color_ohe=ohe.fit_transform(color).toarray()\n",
        "model_ohe=ohe.fit_transform(model).toarray()\n",
        "state_ohe=ohe.fit_transform(state).toarray()\n",
        "# There are 28 brands\n",
        "i = 5\n",
        "print(brand_ohe.shape)\n",
        "print(brand[i,:])     # Brand as a string\n",
        "print(brand_le[i,:])   # Brand to integer\n",
        "print(brand_ohe[i,:])   # Integer to Onehot encoding\n",
        "# CY: değişken isimlerini her defasında değiştirmek daha iyi olur.\n",
        "# Aynı kutuyu tekrar çalıştırırsam, onehot encoded olan brand değişkenine tekrar onehote encoding uygulanıyor."
      ],
      "execution_count": 18,
      "outputs": [
        {
          "output_type": "stream",
          "text": [
            "[[0. 0. 0. ... 0. 0. 1.]\n",
            " [0. 0. 0. ... 0. 0. 0.]\n",
            " [0. 0. 0. ... 0. 0. 0.]\n",
            " ...\n",
            " [0. 0. 0. ... 0. 0. 0.]\n",
            " [0. 0. 0. ... 0. 0. 0.]\n",
            " [0. 0. 0. ... 0. 0. 0.]]\n",
            "(2499, 28)\n",
            "['dodge']\n",
            "[7]\n",
            "[0. 0. 0. 0. 0. 0. 0. 1. 0. 0. 0. 0. 0. 0. 0. 0. 0. 0. 0. 0. 0. 0. 0. 0.\n",
            " 0. 0. 0. 0.]\n"
          ],
          "name": "stdout"
        }
      ]
    },
    {
      "cell_type": "markdown",
      "metadata": {
        "id": "yevvkFr0_0Vn",
        "colab_type": "text",
        "cell_id": "903f9a0e-1015-4d0b-adcd-4dc1c7979e87"
      },
      "source": [
        "Data after Preprocessing"
      ]
    },
    {
      "cell_type": "markdown",
      "metadata": {
        "id": "7ubKncpOADT4",
        "colab_type": "text",
        "cell_id": "f823dc7f-1061-4990-9a3d-af74e322d7d9"
      },
      "source": [
        "Make new dataframe with the preprocessed columns with the help of concat function and split data2 into 2 for test and train"
      ]
    },
    {
      "cell_type": "code",
      "metadata": {
        "id": "tkoTUDjW_m2-",
        "colab_type": "code",
        "cell_id": "290e92b2-7182-481f-b865-7fe85b7c48c3",
        "colab": {
          "base_uri": "https://localhost:8080/",
          "height": 70
        },
        "outputId": "ade612da-b15b-4df2-beed-6c3d386febdf"
      },
      "source": [
        "brand_df=pd.DataFrame(data=brand_ohe)\n",
        "print(brand_df.shape)\n",
        "title_status_df=pd.DataFrame(data=title_status_ohe)\n",
        "color_df=pd.DataFrame(data=color_ohe)\n",
        "model_df=pd.DataFrame(data=model_ohe)\n",
        "state_df=pd.DataFrame(data=state_ohe)\n",
        "mileage_df=pd.DataFrame(data=mileage)\n",
        "year_df=pd.DataFrame(data=year)\n",
        "price_df=pd.DataFrame(data=price)\n",
        "data2=pd.concat([brand_df,model_df,title_status_df,color_df,state_df,year_df,mileage_df], axis=1)\n",
        "print(data2.shape)\n",
        "print(data2.shape[0], \" samples with \", data2.shape[1], \" features each; one sample per row!\")"
      ],
      "execution_count": 19,
      "outputs": [
        {
          "output_type": "stream",
          "text": [
            "(2499, 28)\n",
            "(2499, 252)\n",
            "2499  samples with  252  features each; one sample per row!\n"
          ],
          "name": "stdout"
        }
      ]
    },
    {
      "cell_type": "code",
      "metadata": {
        "id": "NH8M3Al0_5Dm",
        "colab_type": "code",
        "cell_id": "5c9b44eb-755b-42a4-a514-5c0190242967",
        "colab": {}
      },
      "source": [
        "from sklearn.model_selection import train_test_split\n",
        "x_train, x_test, y_train, y_test = train_test_split(data2,price,test_size=0.25, random_state=1) #Random state"
      ],
      "execution_count": 20,
      "outputs": []
    },
    {
      "cell_type": "code",
      "metadata": {
        "id": "OIkt0u9fAjlI",
        "colab_type": "code",
        "cell_id": "425f593c-7948-4fb4-ac88-830c1f1a2bd3",
        "colab": {
          "base_uri": "https://localhost:8080/",
          "height": 603
        },
        "outputId": "45863872-4ffb-4ca7-d70e-d236a91d1fca"
      },
      "source": [
        "print(x_train.shape)\n",
        "print(y_train.shape)\n",
        "print(x_test.shape)\n",
        "print(y_test.shape)\n",
        "print(x_train.shape[0], \" training samples; one sample per row:\")\n",
        "print(x_train)\n",
        "print(price_df)"
      ],
      "execution_count": 21,
      "outputs": [
        {
          "output_type": "stream",
          "text": [
            "(1874, 252)\n",
            "(1874, 1)\n",
            "(625, 252)\n",
            "(625, 1)\n",
            "1874  training samples; one sample per row:\n",
            "       0    1    2    3    4    5    6   ...   39   40   41   42   43    0        0 \n",
            "675   0.0  0.0  0.0  0.0  0.0  1.0  0.0  ...  0.0  0.0  0.0  0.0  0.0  2019  15524.0\n",
            "1125  0.0  0.0  0.0  0.0  0.0  0.0  0.0  ...  0.0  0.0  0.0  0.0  0.0  2019  19983.0\n",
            "1162  0.0  0.0  0.0  0.0  0.0  0.0  0.0  ...  0.0  0.0  0.0  0.0  0.0  2019  26899.0\n",
            "664   0.0  0.0  0.0  0.0  0.0  1.0  0.0  ...  0.0  0.0  0.0  0.0  0.0  2017  20784.0\n",
            "885   0.0  0.0  0.0  0.0  0.0  0.0  0.0  ...  0.0  0.0  0.0  0.0  0.0  2014  44468.0\n",
            "...   ...  ...  ...  ...  ...  ...  ...  ...  ...  ...  ...  ...  ...   ...      ...\n",
            "960   0.0  0.0  0.0  0.0  0.0  0.0  0.0  ...  0.0  0.0  0.0  0.0  0.0  2019  26443.0\n",
            "905   0.0  0.0  0.0  0.0  0.0  0.0  0.0  ...  0.0  0.0  0.0  0.0  0.0  2018  42909.0\n",
            "1096  0.0  0.0  0.0  0.0  0.0  0.0  0.0  ...  0.0  0.0  0.0  0.0  0.0  2014  98699.0\n",
            "235   0.0  0.0  0.0  0.0  0.0  0.0  0.0  ...  0.0  0.0  0.0  0.0  0.0  2016  68142.0\n",
            "1061  0.0  0.0  0.0  0.0  0.0  0.0  0.0  ...  0.0  0.0  0.0  0.0  0.0  2019  38817.0\n",
            "\n",
            "[1874 rows x 252 columns]\n",
            "          0\n",
            "0      6300\n",
            "1      2899\n",
            "2      5350\n",
            "3     25000\n",
            "4     27700\n",
            "...     ...\n",
            "2494   7800\n",
            "2495   9200\n",
            "2496   9200\n",
            "2497   9200\n",
            "2498   9200\n",
            "\n",
            "[2499 rows x 1 columns]\n"
          ],
          "name": "stdout"
        }
      ]
    },
    {
      "cell_type": "code",
      "metadata": {
        "id": "lhUZYc9BAoI2",
        "colab_type": "code",
        "cell_id": "b2aa7942-cef6-4c4e-b522-18697f164624",
        "colab": {
          "base_uri": "https://localhost:8080/",
          "height": 283
        },
        "outputId": "74632648-2c5a-40eb-8a20-0553491958a8"
      },
      "source": [
        "print(x_test.shape[0], \" training samples; one per row\")\n",
        "print(x_test)"
      ],
      "execution_count": 22,
      "outputs": [
        {
          "output_type": "stream",
          "text": [
            "625  training samples; one per row\n",
            "       0    1    2    3    4    5    6   ...   39   40   41   42   43    0        0 \n",
            "1384  0.0  0.0  0.0  0.0  0.0  0.0  0.0  ...  0.0  0.0  0.0  0.0  0.0  2018  21592.0\n",
            "620   0.0  0.0  0.0  0.0  0.0  0.0  0.0  ...  0.0  0.0  0.0  0.0  0.0  2019  16106.0\n",
            "107   0.0  0.0  0.0  0.0  0.0  1.0  0.0  ...  0.0  0.0  0.0  0.0  0.0  2017  19117.0\n",
            "1781  0.0  0.0  0.0  0.0  0.0  0.0  0.0  ...  0.0  0.0  0.0  0.0  0.0  2017  32284.0\n",
            "1592  0.0  0.0  0.0  0.0  0.0  0.0  0.0  ...  0.0  0.0  0.0  0.0  0.0  2019   9278.0\n",
            "...   ...  ...  ...  ...  ...  ...  ...  ...  ...  ...  ...  ...  ...   ...      ...\n",
            "1649  0.0  0.0  0.0  0.0  0.0  0.0  0.0  ...  1.0  0.0  0.0  0.0  0.0  2019  24783.0\n",
            "1027  0.0  0.0  0.0  0.0  0.0  0.0  0.0  ...  0.0  0.0  0.0  0.0  0.0  2019  20944.0\n",
            "1292  0.0  0.0  0.0  0.0  0.0  0.0  0.0  ...  0.0  0.0  0.0  0.0  0.0  2019  15787.0\n",
            "161   0.0  0.0  0.0  0.0  0.0  0.0  0.0  ...  0.0  0.0  0.0  0.0  0.0  2016  33514.0\n",
            "389   0.0  0.0  0.0  0.0  0.0  0.0  0.0  ...  0.0  0.0  0.0  0.0  0.0  2019  30382.0\n",
            "\n",
            "[625 rows x 252 columns]\n"
          ],
          "name": "stdout"
        }
      ]
    },
    {
      "cell_type": "code",
      "metadata": {
        "id": "MXh-fCneAq-F",
        "colab_type": "code",
        "cell_id": "6507d6a6-db90-4174-b4fe-ab55ecf99b60",
        "colab": {
          "base_uri": "https://localhost:8080/",
          "height": 301
        },
        "outputId": "539c6a86-a184-4c0f-81e9-09336bd941b9"
      },
      "source": [
        "from tensorflow import keras\n",
        "from tensorflow.keras import layers\n",
        "model = keras.Sequential()\n",
        "#modelc.add(keras.Input(shape=(252,)))\n",
        "model.add(layers.Dense(50, activation=\"relu\", input_shape=(252,)))\n",
        "model.add(layers.Dense(100, activation=\"relu\"))\n",
        "model.add(layers.Dense(50, activation=\"relu\"))\n",
        "model.add(layers.Dense(1))\n",
        "\n",
        "model.summary()\n"
      ],
      "execution_count": 23,
      "outputs": [
        {
          "output_type": "stream",
          "text": [
            "Model: \"sequential_1\"\n",
            "_________________________________________________________________\n",
            "Layer (type)                 Output Shape              Param #   \n",
            "=================================================================\n",
            "dense_4 (Dense)              (None, 50)                12650     \n",
            "_________________________________________________________________\n",
            "dense_5 (Dense)              (None, 100)               5100      \n",
            "_________________________________________________________________\n",
            "dense_6 (Dense)              (None, 50)                5050      \n",
            "_________________________________________________________________\n",
            "dense_7 (Dense)              (None, 1)                 51        \n",
            "=================================================================\n",
            "Total params: 22,851\n",
            "Trainable params: 22,851\n",
            "Non-trainable params: 0\n",
            "_________________________________________________________________\n"
          ],
          "name": "stdout"
        }
      ]
    },
    {
      "cell_type": "code",
      "metadata": {
        "id": "IP07xlDQC0Sd",
        "colab_type": "code",
        "cell_id": "05e72738-c5ff-4461-be3b-615c75d31a65",
        "colab": {}
      },
      "source": [
        "model.compile(optimizer='adam',\n",
        "              loss='mean_squared_error',\n",
        "              metrics=['accuracy']\n",
        "              )\n",
        "\n",
        "# CY: sparse_categorical_crossentropy: \n",
        "# https://www.dlology.com/blog/how-to-use-keras-sparse_categorical_crossentropy/\n",
        "\n",
        "# CY: Direkt fiyatı Output olarak veren bir model kullanman, onu çalışır hale getirmen daha doğru olur.\n",
        "# Problemin doğasına aykırı bir output şekli bu."
      ],
      "execution_count": 24,
      "outputs": []
    },
    {
      "cell_type": "code",
      "metadata": {
        "id": "Od1r9JvUDseX",
        "colab_type": "code",
        "cell_id": "caa7d3a2-b6ce-4be2-8008-37ae4e232434",
        "colab": {
          "base_uri": "https://localhost:8080/",
          "height": 1000
        },
        "outputId": "6cef8c48-9076-4086-dd1b-c0e90f744e45"
      },
      "source": [
        "# CY: history ekledim.\n",
        "history = model.fit(x_train,y_train,epochs=300)\n",
        "\n",
        "# CY: https://medium.com/analytics-vidhya/house-price-prediction-regression-with-tensorflow-keras-4fc49fae7123\n",
        "# Bu sayfada model.fit() kullanımına bakarsan, validation data kullanmış.\n",
        "# Verini %75 / %15 / %10 = Train / Validation / Test olarak ayırmayı deneyebilirsin.\n",
        "# TODO: Validation data ne için önemli?\n",
        "# TODO: Training esnasında loss düşüyor mu? Accuracy artıyor mu? history kullanarak görüntülemek önemli!"
      ],
      "execution_count": 29,
      "outputs": [
        {
          "output_type": "stream",
          "text": [
            "Epoch 1/300\n",
            "59/59 [==============================] - 0s 3ms/step - loss: 77080312.0000 - accuracy: 0.0000e+00\n",
            "Epoch 2/300\n",
            "59/59 [==============================] - 0s 3ms/step - loss: 71685128.0000 - accuracy: 0.0000e+00\n",
            "Epoch 3/300\n",
            "59/59 [==============================] - 0s 3ms/step - loss: 78749336.0000 - accuracy: 0.0000e+00\n",
            "Epoch 4/300\n",
            "59/59 [==============================] - 0s 3ms/step - loss: 76333720.0000 - accuracy: 0.0000e+00\n",
            "Epoch 5/300\n",
            "59/59 [==============================] - 0s 3ms/step - loss: 76795664.0000 - accuracy: 0.0000e+00\n",
            "Epoch 6/300\n",
            "59/59 [==============================] - 0s 3ms/step - loss: 75300112.0000 - accuracy: 0.0000e+00\n",
            "Epoch 7/300\n",
            "59/59 [==============================] - 0s 3ms/step - loss: 84757424.0000 - accuracy: 0.0000e+00\n",
            "Epoch 8/300\n",
            "59/59 [==============================] - 0s 3ms/step - loss: 85457784.0000 - accuracy: 0.0000e+00\n",
            "Epoch 9/300\n",
            "59/59 [==============================] - 0s 3ms/step - loss: 74521400.0000 - accuracy: 0.0000e+00\n",
            "Epoch 10/300\n",
            "59/59 [==============================] - 0s 3ms/step - loss: 72500144.0000 - accuracy: 0.0000e+00\n",
            "Epoch 11/300\n",
            "59/59 [==============================] - 0s 3ms/step - loss: 74240712.0000 - accuracy: 0.0000e+00\n",
            "Epoch 12/300\n",
            "59/59 [==============================] - 0s 3ms/step - loss: 70632992.0000 - accuracy: 0.0000e+00\n",
            "Epoch 13/300\n",
            "59/59 [==============================] - 0s 3ms/step - loss: 70334408.0000 - accuracy: 0.0000e+00\n",
            "Epoch 14/300\n",
            "59/59 [==============================] - 0s 3ms/step - loss: 74111224.0000 - accuracy: 0.0000e+00\n",
            "Epoch 15/300\n",
            "59/59 [==============================] - 0s 3ms/step - loss: 76310496.0000 - accuracy: 0.0000e+00\n",
            "Epoch 16/300\n",
            "59/59 [==============================] - 0s 3ms/step - loss: 74701192.0000 - accuracy: 0.0000e+00\n",
            "Epoch 17/300\n",
            "59/59 [==============================] - 0s 3ms/step - loss: 74019168.0000 - accuracy: 0.0000e+00\n",
            "Epoch 18/300\n",
            "59/59 [==============================] - 0s 3ms/step - loss: 75051528.0000 - accuracy: 0.0000e+00\n",
            "Epoch 19/300\n",
            "59/59 [==============================] - 0s 3ms/step - loss: 72312760.0000 - accuracy: 0.0000e+00\n",
            "Epoch 20/300\n",
            "59/59 [==============================] - 0s 3ms/step - loss: 70562232.0000 - accuracy: 0.0000e+00\n",
            "Epoch 21/300\n",
            "59/59 [==============================] - 0s 3ms/step - loss: 73091984.0000 - accuracy: 0.0000e+00\n",
            "Epoch 22/300\n",
            "59/59 [==============================] - 0s 3ms/step - loss: 71106272.0000 - accuracy: 0.0000e+00\n",
            "Epoch 23/300\n",
            "59/59 [==============================] - 0s 3ms/step - loss: 69182208.0000 - accuracy: 0.0000e+00\n",
            "Epoch 24/300\n",
            "59/59 [==============================] - 0s 3ms/step - loss: 71854720.0000 - accuracy: 0.0000e+00\n",
            "Epoch 25/300\n",
            "59/59 [==============================] - 0s 3ms/step - loss: 68590904.0000 - accuracy: 0.0000e+00\n",
            "Epoch 26/300\n",
            "59/59 [==============================] - 0s 3ms/step - loss: 70437424.0000 - accuracy: 0.0000e+00\n",
            "Epoch 27/300\n",
            "59/59 [==============================] - 0s 3ms/step - loss: 85723632.0000 - accuracy: 0.0000e+00\n",
            "Epoch 28/300\n",
            "59/59 [==============================] - 0s 3ms/step - loss: 70943912.0000 - accuracy: 0.0000e+00\n",
            "Epoch 29/300\n",
            "59/59 [==============================] - 0s 4ms/step - loss: 70996736.0000 - accuracy: 0.0000e+00\n",
            "Epoch 30/300\n",
            "59/59 [==============================] - 0s 3ms/step - loss: 75017088.0000 - accuracy: 0.0000e+00\n",
            "Epoch 31/300\n",
            "59/59 [==============================] - 0s 3ms/step - loss: 68621704.0000 - accuracy: 0.0000e+00\n",
            "Epoch 32/300\n",
            "59/59 [==============================] - 0s 3ms/step - loss: 69662600.0000 - accuracy: 0.0000e+00\n",
            "Epoch 33/300\n",
            "59/59 [==============================] - 0s 3ms/step - loss: 72097920.0000 - accuracy: 0.0000e+00\n",
            "Epoch 34/300\n",
            "59/59 [==============================] - 0s 3ms/step - loss: 70848544.0000 - accuracy: 0.0000e+00\n",
            "Epoch 35/300\n",
            "59/59 [==============================] - 0s 3ms/step - loss: 68468296.0000 - accuracy: 0.0000e+00\n",
            "Epoch 36/300\n",
            "59/59 [==============================] - 0s 3ms/step - loss: 70578416.0000 - accuracy: 0.0000e+00\n",
            "Epoch 37/300\n",
            "59/59 [==============================] - 0s 3ms/step - loss: 67726080.0000 - accuracy: 0.0000e+00\n",
            "Epoch 38/300\n",
            "59/59 [==============================] - 0s 3ms/step - loss: 69778496.0000 - accuracy: 0.0000e+00\n",
            "Epoch 39/300\n",
            "59/59 [==============================] - 0s 3ms/step - loss: 67098668.0000 - accuracy: 0.0000e+00\n",
            "Epoch 40/300\n",
            "59/59 [==============================] - 0s 3ms/step - loss: 72622904.0000 - accuracy: 0.0000e+00\n",
            "Epoch 41/300\n",
            "59/59 [==============================] - 0s 3ms/step - loss: 70150056.0000 - accuracy: 0.0000e+00\n",
            "Epoch 42/300\n",
            "59/59 [==============================] - 0s 3ms/step - loss: 71539560.0000 - accuracy: 0.0000e+00\n",
            "Epoch 43/300\n",
            "59/59 [==============================] - 0s 3ms/step - loss: 68561640.0000 - accuracy: 0.0000e+00\n",
            "Epoch 44/300\n",
            "59/59 [==============================] - 0s 3ms/step - loss: 77682936.0000 - accuracy: 0.0000e+00\n",
            "Epoch 45/300\n",
            "59/59 [==============================] - 0s 3ms/step - loss: 70068752.0000 - accuracy: 5.3362e-04\n",
            "Epoch 46/300\n",
            "59/59 [==============================] - 0s 3ms/step - loss: 78657696.0000 - accuracy: 0.0000e+00\n",
            "Epoch 47/300\n",
            "59/59 [==============================] - 0s 3ms/step - loss: 70008512.0000 - accuracy: 0.0000e+00\n",
            "Epoch 48/300\n",
            "59/59 [==============================] - 0s 3ms/step - loss: 70333352.0000 - accuracy: 0.0000e+00\n",
            "Epoch 49/300\n",
            "59/59 [==============================] - 0s 3ms/step - loss: 64871648.0000 - accuracy: 0.0000e+00\n",
            "Epoch 50/300\n",
            "59/59 [==============================] - 0s 3ms/step - loss: 70816608.0000 - accuracy: 0.0000e+00\n",
            "Epoch 51/300\n",
            "59/59 [==============================] - 0s 3ms/step - loss: 70856632.0000 - accuracy: 0.0000e+00\n",
            "Epoch 52/300\n",
            "59/59 [==============================] - 0s 3ms/step - loss: 68643368.0000 - accuracy: 0.0000e+00\n",
            "Epoch 53/300\n",
            "59/59 [==============================] - 0s 3ms/step - loss: 66978168.0000 - accuracy: 0.0000e+00\n",
            "Epoch 54/300\n",
            "59/59 [==============================] - 0s 3ms/step - loss: 73759064.0000 - accuracy: 0.0000e+00\n",
            "Epoch 55/300\n",
            "59/59 [==============================] - 0s 3ms/step - loss: 73104576.0000 - accuracy: 0.0000e+00\n",
            "Epoch 56/300\n",
            "59/59 [==============================] - 0s 3ms/step - loss: 78028176.0000 - accuracy: 0.0000e+00\n",
            "Epoch 57/300\n",
            "59/59 [==============================] - 0s 3ms/step - loss: 69044152.0000 - accuracy: 0.0000e+00\n",
            "Epoch 58/300\n",
            "59/59 [==============================] - 0s 3ms/step - loss: 70545352.0000 - accuracy: 0.0000e+00\n",
            "Epoch 59/300\n",
            "59/59 [==============================] - 0s 3ms/step - loss: 67062448.0000 - accuracy: 0.0000e+00\n",
            "Epoch 60/300\n",
            "59/59 [==============================] - 0s 3ms/step - loss: 68726688.0000 - accuracy: 0.0000e+00\n",
            "Epoch 61/300\n",
            "59/59 [==============================] - 0s 4ms/step - loss: 71891312.0000 - accuracy: 0.0000e+00\n",
            "Epoch 62/300\n",
            "59/59 [==============================] - 0s 3ms/step - loss: 72163464.0000 - accuracy: 0.0000e+00\n",
            "Epoch 63/300\n",
            "59/59 [==============================] - 0s 3ms/step - loss: 69335200.0000 - accuracy: 0.0000e+00\n",
            "Epoch 64/300\n",
            "59/59 [==============================] - 0s 3ms/step - loss: 67326720.0000 - accuracy: 0.0000e+00\n",
            "Epoch 65/300\n",
            "59/59 [==============================] - 0s 3ms/step - loss: 71483976.0000 - accuracy: 0.0000e+00\n",
            "Epoch 66/300\n",
            "59/59 [==============================] - 0s 3ms/step - loss: 66874020.0000 - accuracy: 0.0000e+00\n",
            "Epoch 67/300\n",
            "59/59 [==============================] - 0s 3ms/step - loss: 64213540.0000 - accuracy: 0.0000e+00\n",
            "Epoch 68/300\n",
            "59/59 [==============================] - 0s 3ms/step - loss: 82395504.0000 - accuracy: 0.0000e+00\n",
            "Epoch 69/300\n",
            "59/59 [==============================] - 0s 3ms/step - loss: 69157696.0000 - accuracy: 0.0000e+00\n",
            "Epoch 70/300\n",
            "59/59 [==============================] - 0s 3ms/step - loss: 67438888.0000 - accuracy: 0.0000e+00\n",
            "Epoch 71/300\n",
            "59/59 [==============================] - 0s 3ms/step - loss: 70733976.0000 - accuracy: 0.0000e+00\n",
            "Epoch 72/300\n",
            "59/59 [==============================] - 0s 3ms/step - loss: 68063160.0000 - accuracy: 0.0000e+00\n",
            "Epoch 73/300\n",
            "59/59 [==============================] - 0s 3ms/step - loss: 65467572.0000 - accuracy: 0.0000e+00\n",
            "Epoch 74/300\n",
            "59/59 [==============================] - 0s 3ms/step - loss: 71051304.0000 - accuracy: 0.0000e+00\n",
            "Epoch 75/300\n",
            "59/59 [==============================] - 0s 3ms/step - loss: 67348200.0000 - accuracy: 0.0000e+00\n",
            "Epoch 76/300\n",
            "59/59 [==============================] - 0s 3ms/step - loss: 61915492.0000 - accuracy: 0.0000e+00\n",
            "Epoch 77/300\n",
            "59/59 [==============================] - 0s 3ms/step - loss: 63581160.0000 - accuracy: 0.0000e+00\n",
            "Epoch 78/300\n",
            "59/59 [==============================] - 0s 3ms/step - loss: 61081484.0000 - accuracy: 0.0000e+00\n",
            "Epoch 79/300\n",
            "59/59 [==============================] - 0s 3ms/step - loss: 63280412.0000 - accuracy: 0.0000e+00\n",
            "Epoch 80/300\n",
            "59/59 [==============================] - 0s 3ms/step - loss: 65508252.0000 - accuracy: 0.0000e+00\n",
            "Epoch 81/300\n",
            "59/59 [==============================] - 0s 3ms/step - loss: 64759248.0000 - accuracy: 0.0000e+00\n",
            "Epoch 82/300\n",
            "59/59 [==============================] - 0s 3ms/step - loss: 69775656.0000 - accuracy: 0.0000e+00\n",
            "Epoch 83/300\n",
            "59/59 [==============================] - 0s 3ms/step - loss: 64705768.0000 - accuracy: 0.0000e+00\n",
            "Epoch 84/300\n",
            "59/59 [==============================] - 0s 3ms/step - loss: 66336800.0000 - accuracy: 0.0000e+00\n",
            "Epoch 85/300\n",
            "59/59 [==============================] - 0s 3ms/step - loss: 69880808.0000 - accuracy: 0.0000e+00\n",
            "Epoch 86/300\n",
            "59/59 [==============================] - 0s 3ms/step - loss: 67066828.0000 - accuracy: 0.0000e+00\n",
            "Epoch 87/300\n",
            "59/59 [==============================] - 0s 3ms/step - loss: 64473308.0000 - accuracy: 0.0000e+00\n",
            "Epoch 88/300\n",
            "59/59 [==============================] - 0s 3ms/step - loss: 65503240.0000 - accuracy: 0.0000e+00\n",
            "Epoch 89/300\n",
            "59/59 [==============================] - 0s 3ms/step - loss: 62728656.0000 - accuracy: 0.0000e+00\n",
            "Epoch 90/300\n",
            "59/59 [==============================] - 0s 3ms/step - loss: 64033212.0000 - accuracy: 0.0000e+00\n",
            "Epoch 91/300\n",
            "59/59 [==============================] - 0s 3ms/step - loss: 63240032.0000 - accuracy: 0.0000e+00\n",
            "Epoch 92/300\n",
            "59/59 [==============================] - 0s 3ms/step - loss: 66667536.0000 - accuracy: 0.0000e+00\n",
            "Epoch 93/300\n",
            "59/59 [==============================] - 0s 3ms/step - loss: 67919776.0000 - accuracy: 0.0000e+00\n",
            "Epoch 94/300\n",
            "59/59 [==============================] - 0s 3ms/step - loss: 63983000.0000 - accuracy: 0.0000e+00\n",
            "Epoch 95/300\n",
            "59/59 [==============================] - 0s 3ms/step - loss: 75258360.0000 - accuracy: 0.0000e+00\n",
            "Epoch 96/300\n",
            "59/59 [==============================] - 0s 4ms/step - loss: 68374704.0000 - accuracy: 0.0000e+00\n",
            "Epoch 97/300\n",
            "59/59 [==============================] - 0s 3ms/step - loss: 64971720.0000 - accuracy: 0.0000e+00\n",
            "Epoch 98/300\n",
            "59/59 [==============================] - 0s 3ms/step - loss: 66573976.0000 - accuracy: 0.0000e+00\n",
            "Epoch 99/300\n",
            "59/59 [==============================] - 0s 3ms/step - loss: 69444632.0000 - accuracy: 0.0000e+00\n",
            "Epoch 100/300\n",
            "59/59 [==============================] - 0s 3ms/step - loss: 61571736.0000 - accuracy: 0.0000e+00\n",
            "Epoch 101/300\n",
            "59/59 [==============================] - 0s 3ms/step - loss: 66112516.0000 - accuracy: 0.0000e+00\n",
            "Epoch 102/300\n",
            "59/59 [==============================] - 0s 3ms/step - loss: 64937672.0000 - accuracy: 0.0000e+00\n",
            "Epoch 103/300\n",
            "59/59 [==============================] - 0s 3ms/step - loss: 61989204.0000 - accuracy: 0.0000e+00\n",
            "Epoch 104/300\n",
            "59/59 [==============================] - 0s 3ms/step - loss: 69533184.0000 - accuracy: 0.0000e+00\n",
            "Epoch 105/300\n",
            "59/59 [==============================] - 0s 3ms/step - loss: 66344900.0000 - accuracy: 0.0000e+00\n",
            "Epoch 106/300\n",
            "59/59 [==============================] - 0s 3ms/step - loss: 62099908.0000 - accuracy: 0.0000e+00\n",
            "Epoch 107/300\n",
            "59/59 [==============================] - 0s 3ms/step - loss: 67084424.0000 - accuracy: 0.0000e+00\n",
            "Epoch 108/300\n",
            "59/59 [==============================] - 0s 3ms/step - loss: 78342960.0000 - accuracy: 0.0000e+00\n",
            "Epoch 109/300\n",
            "59/59 [==============================] - 0s 3ms/step - loss: 64504000.0000 - accuracy: 0.0000e+00\n",
            "Epoch 110/300\n",
            "59/59 [==============================] - 0s 3ms/step - loss: 61334268.0000 - accuracy: 0.0000e+00\n",
            "Epoch 111/300\n",
            "59/59 [==============================] - 0s 3ms/step - loss: 62037680.0000 - accuracy: 0.0000e+00\n",
            "Epoch 112/300\n",
            "59/59 [==============================] - 0s 3ms/step - loss: 63241668.0000 - accuracy: 0.0000e+00\n",
            "Epoch 113/300\n",
            "59/59 [==============================] - 0s 3ms/step - loss: 64513988.0000 - accuracy: 0.0000e+00\n",
            "Epoch 114/300\n",
            "59/59 [==============================] - 0s 3ms/step - loss: 65071728.0000 - accuracy: 0.0000e+00\n",
            "Epoch 115/300\n",
            "59/59 [==============================] - 0s 3ms/step - loss: 62562680.0000 - accuracy: 0.0000e+00\n",
            "Epoch 116/300\n",
            "59/59 [==============================] - 0s 3ms/step - loss: 64985776.0000 - accuracy: 0.0000e+00\n",
            "Epoch 117/300\n",
            "59/59 [==============================] - 0s 3ms/step - loss: 69931216.0000 - accuracy: 0.0000e+00\n",
            "Epoch 118/300\n",
            "59/59 [==============================] - 0s 3ms/step - loss: 62452712.0000 - accuracy: 0.0000e+00\n",
            "Epoch 119/300\n",
            "59/59 [==============================] - 0s 3ms/step - loss: 62983108.0000 - accuracy: 0.0000e+00\n",
            "Epoch 120/300\n",
            "59/59 [==============================] - 0s 3ms/step - loss: 60108032.0000 - accuracy: 0.0000e+00\n",
            "Epoch 121/300\n",
            "59/59 [==============================] - 0s 3ms/step - loss: 60615056.0000 - accuracy: 0.0000e+00\n",
            "Epoch 122/300\n",
            "59/59 [==============================] - 0s 3ms/step - loss: 62316928.0000 - accuracy: 0.0000e+00\n",
            "Epoch 123/300\n",
            "59/59 [==============================] - 0s 3ms/step - loss: 61027840.0000 - accuracy: 0.0000e+00\n",
            "Epoch 124/300\n",
            "59/59 [==============================] - 0s 3ms/step - loss: 62850064.0000 - accuracy: 0.0000e+00\n",
            "Epoch 125/300\n",
            "59/59 [==============================] - 0s 3ms/step - loss: 60223908.0000 - accuracy: 0.0000e+00\n",
            "Epoch 126/300\n",
            "59/59 [==============================] - 0s 3ms/step - loss: 62932736.0000 - accuracy: 0.0000e+00\n",
            "Epoch 127/300\n",
            "59/59 [==============================] - 0s 3ms/step - loss: 63010832.0000 - accuracy: 0.0000e+00\n",
            "Epoch 128/300\n",
            "59/59 [==============================] - 0s 3ms/step - loss: 61801732.0000 - accuracy: 0.0000e+00\n",
            "Epoch 129/300\n",
            "59/59 [==============================] - 0s 3ms/step - loss: 65630644.0000 - accuracy: 0.0000e+00\n",
            "Epoch 130/300\n",
            "59/59 [==============================] - 0s 3ms/step - loss: 61005068.0000 - accuracy: 0.0000e+00\n",
            "Epoch 131/300\n",
            "59/59 [==============================] - 0s 3ms/step - loss: 68731456.0000 - accuracy: 0.0000e+00\n",
            "Epoch 132/300\n",
            "59/59 [==============================] - 0s 3ms/step - loss: 63767596.0000 - accuracy: 0.0000e+00\n",
            "Epoch 133/300\n",
            "59/59 [==============================] - 0s 3ms/step - loss: 64267712.0000 - accuracy: 0.0000e+00\n",
            "Epoch 134/300\n",
            "59/59 [==============================] - 0s 3ms/step - loss: 65135504.0000 - accuracy: 0.0000e+00\n",
            "Epoch 135/300\n",
            "59/59 [==============================] - 0s 3ms/step - loss: 61417232.0000 - accuracy: 0.0000e+00\n",
            "Epoch 136/300\n",
            "59/59 [==============================] - 0s 3ms/step - loss: 60047912.0000 - accuracy: 0.0000e+00\n",
            "Epoch 137/300\n",
            "59/59 [==============================] - 0s 3ms/step - loss: 63592252.0000 - accuracy: 0.0000e+00\n",
            "Epoch 138/300\n",
            "59/59 [==============================] - 0s 4ms/step - loss: 60495444.0000 - accuracy: 0.0000e+00\n",
            "Epoch 139/300\n",
            "59/59 [==============================] - 0s 3ms/step - loss: 60460824.0000 - accuracy: 0.0000e+00\n",
            "Epoch 140/300\n",
            "59/59 [==============================] - 0s 3ms/step - loss: 59392372.0000 - accuracy: 0.0000e+00\n",
            "Epoch 141/300\n",
            "59/59 [==============================] - 0s 3ms/step - loss: 58532024.0000 - accuracy: 0.0000e+00\n",
            "Epoch 142/300\n",
            "59/59 [==============================] - 0s 3ms/step - loss: 59499920.0000 - accuracy: 0.0000e+00\n",
            "Epoch 143/300\n",
            "59/59 [==============================] - 0s 3ms/step - loss: 65076324.0000 - accuracy: 0.0000e+00\n",
            "Epoch 144/300\n",
            "59/59 [==============================] - 0s 3ms/step - loss: 66936836.0000 - accuracy: 0.0000e+00\n",
            "Epoch 145/300\n",
            "59/59 [==============================] - 0s 3ms/step - loss: 60783576.0000 - accuracy: 0.0000e+00\n",
            "Epoch 146/300\n",
            "59/59 [==============================] - 0s 4ms/step - loss: 59344732.0000 - accuracy: 0.0000e+00\n",
            "Epoch 147/300\n",
            "59/59 [==============================] - 0s 3ms/step - loss: 61089184.0000 - accuracy: 0.0000e+00\n",
            "Epoch 148/300\n",
            "59/59 [==============================] - 0s 4ms/step - loss: 59678356.0000 - accuracy: 0.0000e+00\n",
            "Epoch 149/300\n",
            "59/59 [==============================] - 0s 3ms/step - loss: 57537372.0000 - accuracy: 0.0000e+00\n",
            "Epoch 150/300\n",
            "59/59 [==============================] - 0s 3ms/step - loss: 60488000.0000 - accuracy: 0.0000e+00\n",
            "Epoch 151/300\n",
            "59/59 [==============================] - 0s 3ms/step - loss: 61705300.0000 - accuracy: 0.0000e+00\n",
            "Epoch 152/300\n",
            "59/59 [==============================] - 0s 3ms/step - loss: 57804748.0000 - accuracy: 0.0000e+00\n",
            "Epoch 153/300\n",
            "59/59 [==============================] - 0s 3ms/step - loss: 59490636.0000 - accuracy: 0.0000e+00\n",
            "Epoch 154/300\n",
            "59/59 [==============================] - 0s 3ms/step - loss: 61020916.0000 - accuracy: 0.0000e+00\n",
            "Epoch 155/300\n",
            "59/59 [==============================] - 0s 3ms/step - loss: 58385416.0000 - accuracy: 0.0000e+00\n",
            "Epoch 156/300\n",
            "59/59 [==============================] - 0s 3ms/step - loss: 58613484.0000 - accuracy: 0.0000e+00\n",
            "Epoch 157/300\n",
            "59/59 [==============================] - 0s 3ms/step - loss: 58747688.0000 - accuracy: 0.0000e+00\n",
            "Epoch 158/300\n",
            "59/59 [==============================] - 0s 3ms/step - loss: 60255172.0000 - accuracy: 0.0000e+00\n",
            "Epoch 159/300\n",
            "59/59 [==============================] - 0s 3ms/step - loss: 59793588.0000 - accuracy: 0.0000e+00\n",
            "Epoch 160/300\n",
            "59/59 [==============================] - 0s 3ms/step - loss: 56441056.0000 - accuracy: 0.0000e+00\n",
            "Epoch 161/300\n",
            "59/59 [==============================] - 0s 3ms/step - loss: 62054272.0000 - accuracy: 0.0000e+00\n",
            "Epoch 162/300\n",
            "59/59 [==============================] - 0s 3ms/step - loss: 61592640.0000 - accuracy: 0.0000e+00\n",
            "Epoch 163/300\n",
            "59/59 [==============================] - 0s 3ms/step - loss: 60204780.0000 - accuracy: 0.0000e+00\n",
            "Epoch 164/300\n",
            "59/59 [==============================] - 0s 3ms/step - loss: 62038200.0000 - accuracy: 0.0000e+00\n",
            "Epoch 165/300\n",
            "59/59 [==============================] - 0s 3ms/step - loss: 68134928.0000 - accuracy: 0.0000e+00\n",
            "Epoch 166/300\n",
            "59/59 [==============================] - 0s 3ms/step - loss: 71139408.0000 - accuracy: 0.0000e+00\n",
            "Epoch 167/300\n",
            "59/59 [==============================] - 0s 3ms/step - loss: 59711480.0000 - accuracy: 0.0000e+00\n",
            "Epoch 168/300\n",
            "59/59 [==============================] - 0s 3ms/step - loss: 60953408.0000 - accuracy: 0.0000e+00\n",
            "Epoch 169/300\n",
            "59/59 [==============================] - 0s 3ms/step - loss: 57527088.0000 - accuracy: 0.0000e+00\n",
            "Epoch 170/300\n",
            "59/59 [==============================] - 0s 3ms/step - loss: 63391948.0000 - accuracy: 0.0000e+00\n",
            "Epoch 171/300\n",
            "59/59 [==============================] - 0s 3ms/step - loss: 56107384.0000 - accuracy: 0.0000e+00\n",
            "Epoch 172/300\n",
            "59/59 [==============================] - 0s 3ms/step - loss: 57486132.0000 - accuracy: 0.0000e+00\n",
            "Epoch 173/300\n",
            "59/59 [==============================] - 0s 3ms/step - loss: 55968320.0000 - accuracy: 0.0000e+00\n",
            "Epoch 174/300\n",
            "59/59 [==============================] - 0s 3ms/step - loss: 65343776.0000 - accuracy: 0.0000e+00\n",
            "Epoch 175/300\n",
            "59/59 [==============================] - 0s 3ms/step - loss: 57916372.0000 - accuracy: 0.0000e+00\n",
            "Epoch 176/300\n",
            "59/59 [==============================] - 0s 3ms/step - loss: 66681712.0000 - accuracy: 0.0000e+00\n",
            "Epoch 177/300\n",
            "59/59 [==============================] - 0s 3ms/step - loss: 61351932.0000 - accuracy: 0.0000e+00\n",
            "Epoch 178/300\n",
            "59/59 [==============================] - 0s 3ms/step - loss: 64209840.0000 - accuracy: 0.0000e+00\n",
            "Epoch 179/300\n",
            "59/59 [==============================] - 0s 3ms/step - loss: 61652464.0000 - accuracy: 0.0000e+00\n",
            "Epoch 180/300\n",
            "59/59 [==============================] - 0s 3ms/step - loss: 61195224.0000 - accuracy: 0.0000e+00\n",
            "Epoch 181/300\n",
            "59/59 [==============================] - 0s 3ms/step - loss: 56344964.0000 - accuracy: 0.0000e+00\n",
            "Epoch 182/300\n",
            "59/59 [==============================] - 0s 3ms/step - loss: 55480200.0000 - accuracy: 0.0000e+00\n",
            "Epoch 183/300\n",
            "59/59 [==============================] - 0s 3ms/step - loss: 69161080.0000 - accuracy: 0.0000e+00\n",
            "Epoch 184/300\n",
            "59/59 [==============================] - 0s 3ms/step - loss: 67395240.0000 - accuracy: 0.0000e+00\n",
            "Epoch 185/300\n",
            "59/59 [==============================] - 0s 3ms/step - loss: 58949296.0000 - accuracy: 0.0000e+00\n",
            "Epoch 186/300\n",
            "59/59 [==============================] - 0s 3ms/step - loss: 57560784.0000 - accuracy: 0.0000e+00\n",
            "Epoch 187/300\n",
            "59/59 [==============================] - 0s 3ms/step - loss: 57496488.0000 - accuracy: 0.0000e+00\n",
            "Epoch 188/300\n",
            "59/59 [==============================] - 0s 3ms/step - loss: 57111064.0000 - accuracy: 0.0000e+00\n",
            "Epoch 189/300\n",
            "59/59 [==============================] - 0s 3ms/step - loss: 62795508.0000 - accuracy: 0.0000e+00\n",
            "Epoch 190/300\n",
            "59/59 [==============================] - 0s 3ms/step - loss: 58833212.0000 - accuracy: 0.0000e+00\n",
            "Epoch 191/300\n",
            "59/59 [==============================] - 0s 3ms/step - loss: 55281696.0000 - accuracy: 0.0000e+00\n",
            "Epoch 192/300\n",
            "59/59 [==============================] - 0s 3ms/step - loss: 59113628.0000 - accuracy: 0.0000e+00\n",
            "Epoch 193/300\n",
            "59/59 [==============================] - 0s 3ms/step - loss: 55127928.0000 - accuracy: 0.0000e+00\n",
            "Epoch 194/300\n",
            "59/59 [==============================] - 0s 3ms/step - loss: 58295600.0000 - accuracy: 0.0000e+00\n",
            "Epoch 195/300\n",
            "59/59 [==============================] - 0s 3ms/step - loss: 56022140.0000 - accuracy: 0.0000e+00\n",
            "Epoch 196/300\n",
            "59/59 [==============================] - 0s 4ms/step - loss: 63695868.0000 - accuracy: 0.0000e+00\n",
            "Epoch 197/300\n",
            "59/59 [==============================] - 0s 3ms/step - loss: 62799396.0000 - accuracy: 0.0000e+00\n",
            "Epoch 198/300\n",
            "59/59 [==============================] - 0s 3ms/step - loss: 59424336.0000 - accuracy: 0.0000e+00\n",
            "Epoch 199/300\n",
            "59/59 [==============================] - 0s 3ms/step - loss: 60324060.0000 - accuracy: 0.0000e+00\n",
            "Epoch 200/300\n",
            "59/59 [==============================] - 0s 3ms/step - loss: 57612592.0000 - accuracy: 0.0000e+00\n",
            "Epoch 201/300\n",
            "59/59 [==============================] - 0s 3ms/step - loss: 59165456.0000 - accuracy: 0.0000e+00\n",
            "Epoch 202/300\n",
            "59/59 [==============================] - 0s 3ms/step - loss: 58903588.0000 - accuracy: 0.0000e+00\n",
            "Epoch 203/300\n",
            "59/59 [==============================] - 0s 3ms/step - loss: 64399824.0000 - accuracy: 0.0000e+00\n",
            "Epoch 204/300\n",
            "59/59 [==============================] - 0s 3ms/step - loss: 57850368.0000 - accuracy: 0.0000e+00\n",
            "Epoch 205/300\n",
            "59/59 [==============================] - 0s 3ms/step - loss: 56137368.0000 - accuracy: 0.0000e+00\n",
            "Epoch 206/300\n",
            "59/59 [==============================] - 0s 3ms/step - loss: 60592632.0000 - accuracy: 0.0000e+00\n",
            "Epoch 207/300\n",
            "59/59 [==============================] - 0s 3ms/step - loss: 61290548.0000 - accuracy: 0.0000e+00\n",
            "Epoch 208/300\n",
            "59/59 [==============================] - 0s 3ms/step - loss: 59386784.0000 - accuracy: 0.0000e+00\n",
            "Epoch 209/300\n",
            "59/59 [==============================] - 0s 3ms/step - loss: 60991340.0000 - accuracy: 0.0000e+00\n",
            "Epoch 210/300\n",
            "59/59 [==============================] - 0s 3ms/step - loss: 60796548.0000 - accuracy: 0.0000e+00\n",
            "Epoch 211/300\n",
            "59/59 [==============================] - 0s 3ms/step - loss: 54926624.0000 - accuracy: 0.0000e+00\n",
            "Epoch 212/300\n",
            "59/59 [==============================] - 0s 3ms/step - loss: 56633196.0000 - accuracy: 0.0000e+00\n",
            "Epoch 213/300\n",
            "59/59 [==============================] - 0s 3ms/step - loss: 59188140.0000 - accuracy: 0.0000e+00\n",
            "Epoch 214/300\n",
            "59/59 [==============================] - 0s 3ms/step - loss: 55679132.0000 - accuracy: 0.0000e+00\n",
            "Epoch 215/300\n",
            "59/59 [==============================] - 0s 3ms/step - loss: 54540088.0000 - accuracy: 0.0000e+00\n",
            "Epoch 216/300\n",
            "59/59 [==============================] - 0s 3ms/step - loss: 60184720.0000 - accuracy: 0.0000e+00\n",
            "Epoch 217/300\n",
            "59/59 [==============================] - 0s 3ms/step - loss: 58659360.0000 - accuracy: 0.0000e+00\n",
            "Epoch 218/300\n",
            "59/59 [==============================] - 0s 3ms/step - loss: 55945704.0000 - accuracy: 0.0000e+00\n",
            "Epoch 219/300\n",
            "59/59 [==============================] - 0s 3ms/step - loss: 54754212.0000 - accuracy: 0.0000e+00\n",
            "Epoch 220/300\n",
            "59/59 [==============================] - 0s 3ms/step - loss: 60183820.0000 - accuracy: 0.0000e+00\n",
            "Epoch 221/300\n",
            "59/59 [==============================] - 0s 3ms/step - loss: 54810224.0000 - accuracy: 0.0000e+00\n",
            "Epoch 222/300\n",
            "59/59 [==============================] - 0s 3ms/step - loss: 56452052.0000 - accuracy: 0.0000e+00\n",
            "Epoch 223/300\n",
            "59/59 [==============================] - 0s 3ms/step - loss: 65241600.0000 - accuracy: 0.0000e+00\n",
            "Epoch 224/300\n",
            "59/59 [==============================] - 0s 3ms/step - loss: 58329444.0000 - accuracy: 0.0000e+00\n",
            "Epoch 225/300\n",
            "59/59 [==============================] - 0s 3ms/step - loss: 57251896.0000 - accuracy: 0.0000e+00\n",
            "Epoch 226/300\n",
            "59/59 [==============================] - 0s 3ms/step - loss: 63989292.0000 - accuracy: 0.0000e+00\n",
            "Epoch 227/300\n",
            "59/59 [==============================] - 0s 3ms/step - loss: 58483856.0000 - accuracy: 0.0000e+00\n",
            "Epoch 228/300\n",
            "59/59 [==============================] - 0s 3ms/step - loss: 55691960.0000 - accuracy: 0.0000e+00\n",
            "Epoch 229/300\n",
            "59/59 [==============================] - 0s 3ms/step - loss: 56402080.0000 - accuracy: 0.0000e+00\n",
            "Epoch 230/300\n",
            "59/59 [==============================] - 0s 3ms/step - loss: 61616796.0000 - accuracy: 0.0000e+00\n",
            "Epoch 231/300\n",
            "59/59 [==============================] - 0s 3ms/step - loss: 52825304.0000 - accuracy: 0.0000e+00\n",
            "Epoch 232/300\n",
            "59/59 [==============================] - 0s 3ms/step - loss: 54581056.0000 - accuracy: 0.0000e+00\n",
            "Epoch 233/300\n",
            "59/59 [==============================] - 0s 3ms/step - loss: 59876884.0000 - accuracy: 0.0000e+00\n",
            "Epoch 234/300\n",
            "59/59 [==============================] - 0s 3ms/step - loss: 55594520.0000 - accuracy: 0.0000e+00\n",
            "Epoch 235/300\n",
            "59/59 [==============================] - 0s 3ms/step - loss: 60212388.0000 - accuracy: 0.0000e+00\n",
            "Epoch 236/300\n",
            "59/59 [==============================] - 0s 3ms/step - loss: 58678856.0000 - accuracy: 0.0000e+00\n",
            "Epoch 237/300\n",
            "59/59 [==============================] - 0s 4ms/step - loss: 56566664.0000 - accuracy: 0.0000e+00\n",
            "Epoch 238/300\n",
            "59/59 [==============================] - 0s 3ms/step - loss: 56025648.0000 - accuracy: 0.0000e+00\n",
            "Epoch 239/300\n",
            "59/59 [==============================] - 0s 3ms/step - loss: 57615040.0000 - accuracy: 0.0000e+00\n",
            "Epoch 240/300\n",
            "59/59 [==============================] - 0s 3ms/step - loss: 55942220.0000 - accuracy: 0.0000e+00\n",
            "Epoch 241/300\n",
            "59/59 [==============================] - 0s 3ms/step - loss: 59937556.0000 - accuracy: 0.0000e+00\n",
            "Epoch 242/300\n",
            "59/59 [==============================] - 0s 3ms/step - loss: 55318652.0000 - accuracy: 0.0000e+00\n",
            "Epoch 243/300\n",
            "59/59 [==============================] - 0s 3ms/step - loss: 56359124.0000 - accuracy: 0.0000e+00\n",
            "Epoch 244/300\n",
            "59/59 [==============================] - 0s 3ms/step - loss: 55620100.0000 - accuracy: 0.0000e+00\n",
            "Epoch 245/300\n",
            "59/59 [==============================] - 0s 3ms/step - loss: 59745648.0000 - accuracy: 0.0000e+00\n",
            "Epoch 246/300\n",
            "59/59 [==============================] - 0s 3ms/step - loss: 53704820.0000 - accuracy: 0.0000e+00\n",
            "Epoch 247/300\n",
            "59/59 [==============================] - 0s 3ms/step - loss: 56533276.0000 - accuracy: 0.0000e+00\n",
            "Epoch 248/300\n",
            "59/59 [==============================] - 0s 3ms/step - loss: 60395088.0000 - accuracy: 0.0000e+00\n",
            "Epoch 249/300\n",
            "59/59 [==============================] - 0s 3ms/step - loss: 59310888.0000 - accuracy: 0.0000e+00\n",
            "Epoch 250/300\n",
            "59/59 [==============================] - 0s 3ms/step - loss: 53819056.0000 - accuracy: 0.0000e+00\n",
            "Epoch 251/300\n",
            "59/59 [==============================] - 0s 3ms/step - loss: 55863832.0000 - accuracy: 0.0000e+00\n",
            "Epoch 252/300\n",
            "59/59 [==============================] - 0s 3ms/step - loss: 51204916.0000 - accuracy: 0.0000e+00\n",
            "Epoch 253/300\n",
            "59/59 [==============================] - 0s 3ms/step - loss: 54816528.0000 - accuracy: 0.0000e+00\n",
            "Epoch 254/300\n",
            "59/59 [==============================] - 0s 3ms/step - loss: 57976348.0000 - accuracy: 0.0000e+00\n",
            "Epoch 255/300\n",
            "59/59 [==============================] - 0s 3ms/step - loss: 54626156.0000 - accuracy: 0.0000e+00\n",
            "Epoch 256/300\n",
            "59/59 [==============================] - 0s 3ms/step - loss: 56689552.0000 - accuracy: 0.0000e+00\n",
            "Epoch 257/300\n",
            "59/59 [==============================] - 0s 3ms/step - loss: 52970448.0000 - accuracy: 0.0000e+00\n",
            "Epoch 258/300\n",
            "59/59 [==============================] - 0s 3ms/step - loss: 54254492.0000 - accuracy: 0.0000e+00\n",
            "Epoch 259/300\n",
            "59/59 [==============================] - 0s 3ms/step - loss: 52442528.0000 - accuracy: 5.3362e-04\n",
            "Epoch 260/300\n",
            "59/59 [==============================] - 0s 3ms/step - loss: 54030636.0000 - accuracy: 0.0000e+00\n",
            "Epoch 261/300\n",
            "59/59 [==============================] - 0s 3ms/step - loss: 54335656.0000 - accuracy: 0.0000e+00\n",
            "Epoch 262/300\n",
            "59/59 [==============================] - 0s 3ms/step - loss: 53131048.0000 - accuracy: 0.0000e+00\n",
            "Epoch 263/300\n",
            "59/59 [==============================] - 0s 3ms/step - loss: 53839288.0000 - accuracy: 0.0000e+00\n",
            "Epoch 264/300\n",
            "59/59 [==============================] - 0s 3ms/step - loss: 57155144.0000 - accuracy: 0.0000e+00\n",
            "Epoch 265/300\n",
            "59/59 [==============================] - 0s 3ms/step - loss: 55131916.0000 - accuracy: 0.0000e+00\n",
            "Epoch 266/300\n",
            "59/59 [==============================] - 0s 3ms/step - loss: 50011060.0000 - accuracy: 5.3362e-04\n",
            "Epoch 267/300\n",
            "59/59 [==============================] - 0s 3ms/step - loss: 54962480.0000 - accuracy: 0.0000e+00\n",
            "Epoch 268/300\n",
            "59/59 [==============================] - 0s 3ms/step - loss: 54561352.0000 - accuracy: 0.0000e+00\n",
            "Epoch 269/300\n",
            "59/59 [==============================] - 0s 3ms/step - loss: 60842892.0000 - accuracy: 0.0000e+00\n",
            "Epoch 270/300\n",
            "59/59 [==============================] - 0s 3ms/step - loss: 55837632.0000 - accuracy: 0.0000e+00\n",
            "Epoch 271/300\n",
            "59/59 [==============================] - 0s 3ms/step - loss: 53924168.0000 - accuracy: 0.0000e+00\n",
            "Epoch 272/300\n",
            "59/59 [==============================] - 0s 3ms/step - loss: 55895292.0000 - accuracy: 0.0000e+00\n",
            "Epoch 273/300\n",
            "59/59 [==============================] - 0s 3ms/step - loss: 58928352.0000 - accuracy: 0.0000e+00\n",
            "Epoch 274/300\n",
            "59/59 [==============================] - 0s 3ms/step - loss: 55536772.0000 - accuracy: 0.0000e+00\n",
            "Epoch 275/300\n",
            "59/59 [==============================] - 0s 4ms/step - loss: 54200096.0000 - accuracy: 0.0000e+00\n",
            "Epoch 276/300\n",
            "59/59 [==============================] - 0s 3ms/step - loss: 53692816.0000 - accuracy: 0.0000e+00\n",
            "Epoch 277/300\n",
            "59/59 [==============================] - 0s 3ms/step - loss: 54555424.0000 - accuracy: 5.3362e-04\n",
            "Epoch 278/300\n",
            "59/59 [==============================] - 0s 3ms/step - loss: 57022168.0000 - accuracy: 0.0000e+00\n",
            "Epoch 279/300\n",
            "59/59 [==============================] - 0s 3ms/step - loss: 53958748.0000 - accuracy: 0.0000e+00\n",
            "Epoch 280/300\n",
            "59/59 [==============================] - 0s 3ms/step - loss: 51881488.0000 - accuracy: 0.0000e+00\n",
            "Epoch 281/300\n",
            "59/59 [==============================] - 0s 3ms/step - loss: 51921284.0000 - accuracy: 5.3362e-04\n",
            "Epoch 282/300\n",
            "59/59 [==============================] - 0s 3ms/step - loss: 50655788.0000 - accuracy: 5.3362e-04\n",
            "Epoch 283/300\n",
            "59/59 [==============================] - 0s 3ms/step - loss: 51784584.0000 - accuracy: 5.3362e-04\n",
            "Epoch 284/300\n",
            "59/59 [==============================] - 0s 3ms/step - loss: 54916904.0000 - accuracy: 5.3362e-04\n",
            "Epoch 285/300\n",
            "59/59 [==============================] - 0s 3ms/step - loss: 49654904.0000 - accuracy: 5.3362e-04\n",
            "Epoch 286/300\n",
            "59/59 [==============================] - 0s 3ms/step - loss: 50926564.0000 - accuracy: 5.3362e-04\n",
            "Epoch 287/300\n",
            "59/59 [==============================] - 0s 3ms/step - loss: 53638388.0000 - accuracy: 5.3362e-04\n",
            "Epoch 288/300\n",
            "59/59 [==============================] - 0s 3ms/step - loss: 53348584.0000 - accuracy: 5.3362e-04\n",
            "Epoch 289/300\n",
            "59/59 [==============================] - 0s 3ms/step - loss: 51998112.0000 - accuracy: 5.3362e-04\n",
            "Epoch 290/300\n",
            "59/59 [==============================] - 0s 3ms/step - loss: 51401064.0000 - accuracy: 5.3362e-04\n",
            "Epoch 291/300\n",
            "59/59 [==============================] - 0s 3ms/step - loss: 50275984.0000 - accuracy: 5.3362e-04\n",
            "Epoch 292/300\n",
            "59/59 [==============================] - 0s 3ms/step - loss: 60445348.0000 - accuracy: 0.0000e+00\n",
            "Epoch 293/300\n",
            "59/59 [==============================] - 0s 3ms/step - loss: 53663852.0000 - accuracy: 0.0000e+00\n",
            "Epoch 294/300\n",
            "59/59 [==============================] - 0s 3ms/step - loss: 51298548.0000 - accuracy: 0.0000e+00\n",
            "Epoch 295/300\n",
            "59/59 [==============================] - 0s 3ms/step - loss: 56851888.0000 - accuracy: 0.0000e+00\n",
            "Epoch 296/300\n",
            "59/59 [==============================] - 0s 3ms/step - loss: 51257976.0000 - accuracy: 5.3362e-04\n",
            "Epoch 297/300\n",
            "59/59 [==============================] - 0s 3ms/step - loss: 54857768.0000 - accuracy: 5.3362e-04\n",
            "Epoch 298/300\n",
            "59/59 [==============================] - 0s 3ms/step - loss: 52597052.0000 - accuracy: 5.3362e-04\n",
            "Epoch 299/300\n",
            "59/59 [==============================] - 0s 3ms/step - loss: 57134012.0000 - accuracy: 5.3362e-04\n",
            "Epoch 300/300\n",
            "59/59 [==============================] - 0s 3ms/step - loss: 58653212.0000 - accuracy: 5.3362e-04\n"
          ],
          "name": "stdout"
        }
      ]
    },
    {
      "cell_type": "code",
      "metadata": {
        "tags": [],
        "cell_id": "99da6ddd-f6e6-4f49-8a84-1b94bcb09bdd",
        "id": "WYzdTK5C7J0S",
        "colab_type": "code",
        "colab": {
          "base_uri": "https://localhost:8080/",
          "height": 294
        },
        "outputId": "6ae1acc6-1aae-46f7-ef55-9187d6818c21"
      },
      "source": [
        "# summarize history for loss\n",
        "plt.plot(history.history['loss'])\n",
        "#plt.plot(history_c.history['val_loss'])\n",
        "plt.title('model loss')\n",
        "plt.ylabel('loss')\n",
        "plt.xlabel('epoch')\n",
        "#plt.legend(['train', 'test'], loc='upper left')\n",
        "plt.legend(['train'], loc='upper left')\n",
        "plt.show()"
      ],
      "execution_count": 30,
      "outputs": [
        {
          "output_type": "display_data",
          "data": {
            "image/png": "[encoded data removed]",
            "text/plain": [
              "<Figure size 432x288 with 1 Axes>"
            ]
          },
          "metadata": {
            "tags": [],
            "needs_background": "light"
          }
        }
      ]
    },
    {
      "cell_type": "code",
      "metadata": {
        "id": "DtoHn0vU5nZH",
        "colab_type": "code",
        "colab": {
          "base_uri": "https://localhost:8080/",
          "height": 34
        },
        "outputId": "a67f9baa-924c-439c-be09-f8a449b5dbd3"
      },
      "source": [
        "from sklearn.metrics import mean_squared_error,mean_absolute_error\n",
        "predictions = model.predict(x_test)\n",
        "mean_absolute_error(y_test,predictions)"
      ],
      "execution_count": 31,
      "outputs": [
        {
          "output_type": "execute_result",
          "data": {
            "text/plain": [
              "5462.020383984375"
            ]
          },
          "metadata": {
            "tags": []
          },
          "execution_count": 31
        }
      ]
    },
    {
      "cell_type": "code",
      "metadata": {
        "id": "WeWykkJ39-Ij",
        "colab_type": "code",
        "colab": {
          "base_uri": "https://localhost:8080/",
          "height": 34
        },
        "outputId": "52089057-9efa-4d99-b50e-d7e2179fd79f"
      },
      "source": [
        "(mean_squared_error(y_test,predictions))"
      ],
      "execution_count": 32,
      "outputs": [
        {
          "output_type": "execute_result",
          "data": {
            "text/plain": [
              "53035282.047462285"
            ]
          },
          "metadata": {
            "tags": []
          },
          "execution_count": 32
        }
      ]
    },
    {
      "cell_type": "code",
      "metadata": {
        "id": "heG2GDam-GLI",
        "colab_type": "code",
        "colab": {}
      },
      "source": [
        ""
      ],
      "execution_count": null,
      "outputs": []
    }
  ]
}